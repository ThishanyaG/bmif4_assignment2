{
 "cells": [
  {
   "cell_type": "markdown",
   "metadata": {},
   "source": [
    "## BMIF 804 Assignment 2\n"
   ]
  },
  {
   "cell_type": "code",
   "execution_count": 8,
   "metadata": {},
   "outputs": [],
   "source": [
    "import SimpleITK as sitk\n",
    "import matplotlib.pyplot as plt\n",
    "import numpy as np"
   ]
  },
  {
   "cell_type": "code",
   "execution_count": 9,
   "metadata": {},
   "outputs": [
    {
     "name": "stdout",
     "output_type": "stream",
     "text": [
      "Image size: (140, 280, 45)\n",
      "Image spacing: (2.0, 1.0, 4.0)\n",
      "Image origin: (-140.0, -139.5, -90.0)\n",
      "Image direction: (1.0, 0.0, 0.0, 0.0, 1.0, 0.0, 0.0, 0.0, 1.0)\n",
      "Image pixel type: 32-bit signed integer\n"
     ]
    }
   ],
   "source": [
    "intra_mri = sitk.ReadImage(\"C:/Users/thish/Documents/804/Assign2/intraop_mri_new.nrrd\")\n",
    "\n",
    "print(\"Image size:\", intra_mri.GetSize())\n",
    "print(\"Image spacing:\", intra_mri.GetSpacing())\n",
    "print(\"Image origin:\", intra_mri.GetOrigin())\n",
    "print(\"Image direction:\", intra_mri.GetDirection())\n",
    "print(\"Image pixel type:\", intra_mri.GetPixelIDTypeAsString())"
   ]
  },
  {
   "cell_type": "code",
   "execution_count": 10,
   "metadata": {},
   "outputs": [],
   "source": [
    "viewer = sitk.ImageViewer()\n",
    "slicer_app_location = \"C:\\\\Users\\\\thish\\\\AppData\\\\Local\\\\NA-MIC\\\\Slicer 5.0.2\\\\Slicer.exe\"\n",
    "viewer.SetApplication(slicer_app_location)\n",
    "\n",
    "viewer.Execute(intra_mri)"
   ]
  },
  {
   "cell_type": "code",
   "execution_count": 11,
   "metadata": {},
   "outputs": [
    {
     "data": {
      "image/png": "[encoded data removed]",
      "text/plain": [
       "<Figure size 432x288 with 1 Axes>"
      ]
     },
     "metadata": {
      "needs_background": "light"
     },
     "output_type": "display_data"
    }
   ],
   "source": [
    "imSpacing =intra_mri.GetSpacing()\n",
    "imSize= intra_mri.GetSize()\n",
    "imOrigin=intra_mri.GetOrigin()\n",
    "\n",
    "slice_num = 20\n",
    "x0 =  imOrigin[0]\n",
    "x1 =  imOrigin[0]+(imSpacing[0]*imSize[0])\n",
    "y0 =  imOrigin[1]\n",
    "y1 =  imOrigin[1]+(imSpacing[1]*imSize[1])\n",
    "'''z0 =  imOrigin[2]\n",
    "z1 =  imOrigin[2]+(imSpacing[2]*imSize[2])'''\n",
    "\n",
    "corner_points = [intra_mri.TransformIndexToPhysicalPoint((0,0,slice_num)),\n",
    "intra_mri.TransformIndexToPhysicalPoint((intra_mri.GetWidth(),0,slice_num)),\n",
    "intra_mri.TransformIndexToPhysicalPoint((intra_mri.GetWidth(), intra_mri.GetHeight(),slice_num)),\n",
    "intra_mri.TransformIndexToPhysicalPoint((0, intra_mri.GetHeight(), slice_num))]\n",
    "\n",
    "mri_array = sitk.GetArrayFromImage(intra_mri[slice_num,:,:])\n",
    "plt.imshow(mri_array, cmap='gray', extent=[x0,x1,y0,y1])\n",
    "plt.show()\n",
    "# plt.imshow(mri_array, cmap='gray', extent=[])\n"
   ]
  },
  {
   "cell_type": "markdown",
   "metadata": {},
   "source": [
    "## Part 1c\n",
    "\n"
   ]
  },
  {
   "cell_type": "code",
   "execution_count": 12,
   "metadata": {},
   "outputs": [
    {
     "name": "stdout",
     "output_type": "stream",
     "text": [
      "\n"
     ]
    }
   ],
   "source": [
    "# Part 1d:\n",
    "def data_resample(img, new_spacing):\n",
    "    resampler = sitk.ResampleImageFilter()\n",
    "    resampled_mri = resampler.Execute(img)\n",
    "    print()\n",
    "    return resampled_mri\n",
    "\n",
    "resampled_mri = data_resample(intra_mri, 0.5)"
   ]
  },
  {
   "cell_type": "markdown",
   "metadata": {},
   "source": [
    "## Part 2:\n"
   ]
  },
  {
   "cell_type": "code",
   "execution_count": 13,
   "metadata": {},
   "outputs": [
    {
     "ename": "TypeError",
     "evalue": "SetTranslation() missing 1 required positional argument: 'translation'",
     "output_type": "error",
     "traceback": [
      "\u001b[1;31m---------------------------------------------------------------------------\u001b[0m",
      "\u001b[1;31mTypeError\u001b[0m                                 Traceback (most recent call last)",
      "\u001b[1;32mc:\\Users\\thish\\Documents\\GitHub\\bmif4_assignment2\\Assign_2_code.ipynb Cell 9\u001b[0m in \u001b[0;36m<cell line: 6>\u001b[1;34m()\u001b[0m\n\u001b[0;32m      <a href='vscode-notebook-cell:/c%3A/Users/thish/Documents/GitHub/bmif4_assignment2/Assign_2_code.ipynb#ch0000007?line=3'>4</a>\u001b[0m translation \u001b[39m=\u001b[39m sitk\u001b[39m.\u001b[39mTranslationTransform(\u001b[39m3\u001b[39m, (\u001b[39m10\u001b[39m,\u001b[39m10\u001b[39m,\u001b[39m10\u001b[39m))\n\u001b[0;32m      <a href='vscode-notebook-cell:/c%3A/Users/thish/Documents/GitHub/bmif4_assignment2/Assign_2_code.ipynb#ch0000007?line=4'>5</a>\u001b[0m translate \u001b[39m=\u001b[39m sitk\u001b[39m.\u001b[39mEuler3DTransform\n\u001b[1;32m----> <a href='vscode-notebook-cell:/c%3A/Users/thish/Documents/GitHub/bmif4_assignment2/Assign_2_code.ipynb#ch0000007?line=5'>6</a>\u001b[0m translate\u001b[39m.\u001b[39;49mSetTranslation(translation\u001b[39m.\u001b[39;49mGetOffset())\n",
      "\u001b[1;31mTypeError\u001b[0m: SetTranslation() missing 1 required positional argument: 'translation'"
     ]
    }
   ],
   "source": [
    "rotate = sitk.Euler3DTransform()\n",
    "rotate.SetRotation(0,0,-np.pi/2)\n",
    "\n",
    "translation = sitk.TranslationTransform(3, (10,10,10))\n",
    "translate = sitk.Euler3DTransform\n",
    "translate.SetTranslation(translation.GetOffset())\n",
    "# print(translation)\n"
   ]
  },
  {
   "cell_type": "code",
   "execution_count": 15,
   "metadata": {},
   "outputs": [
    {
     "ename": "TypeError",
     "evalue": "in method 'ResampleImageFilter_SetReferenceImage', argument 2 of type 'itk::simple::Image const &'",
     "output_type": "error",
     "traceback": [
      "\u001b[1;31m---------------------------------------------------------------------------\u001b[0m",
      "\u001b[1;31mTypeError\u001b[0m                                 Traceback (most recent call last)",
      "\u001b[1;32mc:\\Users\\thish\\Documents\\GitHub\\bmif4_assignment2\\Assign_2_code.ipynb Cell 10\u001b[0m in \u001b[0;36m<cell line: 2>\u001b[1;34m()\u001b[0m\n\u001b[0;32m      <a href='vscode-notebook-cell:/c%3A/Users/thish/Documents/GitHub/bmif4_assignment2/Assign_2_code.ipynb#ch0000009?line=0'>1</a>\u001b[0m interpol \u001b[39m=\u001b[39m sitk\u001b[39m.\u001b[39msitkLinear\n\u001b[1;32m----> <a href='vscode-notebook-cell:/c%3A/Users/thish/Documents/GitHub/bmif4_assignment2/Assign_2_code.ipynb#ch0000009?line=1'>2</a>\u001b[0m Rot_trans_mri \u001b[39m=\u001b[39m sitk\u001b[39m.\u001b[39;49mResample(mri_array, interpol)\n",
      "File \u001b[1;32mc:\\Users\\thish\\Documents\\Anaconda\\envs\\BMIF804\\lib\\site-packages\\SimpleITK\\extra.py:113\u001b[0m, in \u001b[0;36mResample\u001b[1;34m(image1, *args, **kwargs)\u001b[0m\n\u001b[0;32m    110\u001b[0m \u001b[39mif\u001b[39;00m \u001b[39m\"\u001b[39m\u001b[39msize\u001b[39m\u001b[39m\"\u001b[39m \u001b[39min\u001b[39;00m kwargs:\n\u001b[0;32m    111\u001b[0m     \u001b[39mreturn\u001b[39;00m _r(\u001b[39m*\u001b[39margs, \u001b[39m*\u001b[39m\u001b[39m*\u001b[39mkwargs)\n\u001b[1;32m--> 113\u001b[0m \u001b[39mreturn\u001b[39;00m _r_image(image1, \u001b[39m*\u001b[39;49margs, \u001b[39m*\u001b[39;49m\u001b[39m*\u001b[39;49mkwargs)\n",
      "File \u001b[1;32mc:\\Users\\thish\\Documents\\Anaconda\\envs\\BMIF804\\lib\\site-packages\\SimpleITK\\extra.py:69\u001b[0m, in \u001b[0;36mResample.<locals>._r_image\u001b[1;34m(referenceImage, transform, interpolator, defaultPixelValue, outputPixelType, useNearestNeighborExtrapolator)\u001b[0m\n\u001b[0;32m     62\u001b[0m \u001b[39mdef\u001b[39;00m \u001b[39m_r_image\u001b[39m(referenceImage,\n\u001b[0;32m     63\u001b[0m              transform\u001b[39m=\u001b[39mTransform(),\n\u001b[0;32m     64\u001b[0m              interpolator\u001b[39m=\u001b[39msitkLinear,\n\u001b[0;32m     65\u001b[0m              defaultPixelValue\u001b[39m=\u001b[39m\u001b[39m0.0\u001b[39m,\n\u001b[0;32m     66\u001b[0m              outputPixelType\u001b[39m=\u001b[39msitkUnknown,\n\u001b[0;32m     67\u001b[0m              useNearestNeighborExtrapolator\u001b[39m=\u001b[39m\u001b[39mFalse\u001b[39;00m):\n\u001b[0;32m     68\u001b[0m     resampler \u001b[39m=\u001b[39m ResampleImageFilter()\n\u001b[1;32m---> 69\u001b[0m     resampler\u001b[39m.\u001b[39;49mSetReferenceImage(referenceImage)\n\u001b[0;32m     70\u001b[0m     resampler\u001b[39m.\u001b[39mSetTransform(transform)\n\u001b[0;32m     71\u001b[0m     resampler\u001b[39m.\u001b[39mSetInterpolator(interpolator)\n",
      "File \u001b[1;32mc:\\Users\\thish\\Documents\\Anaconda\\envs\\BMIF804\\lib\\site-packages\\SimpleITK\\SimpleITK.py:48738\u001b[0m, in \u001b[0;36mResampleImageFilter.SetReferenceImage\u001b[1;34m(self, refImage)\u001b[0m\n\u001b[0;32m  48728\u001b[0m \u001b[39mdef\u001b[39;00m \u001b[39mSetReferenceImage\u001b[39m(\u001b[39mself\u001b[39m, refImage):\n\u001b[0;32m  48729\u001b[0m     \u001b[39mr\u001b[39m\u001b[39m\"\"\"\u001b[39;00m\n\u001b[0;32m  48730\u001b[0m \u001b[39m    SetReferenceImage(ResampleImageFilter self, Image refImage)\u001b[39;00m\n\u001b[0;32m  48731\u001b[0m \n\u001b[1;32m   (...)\u001b[0m\n\u001b[0;32m  48736\u001b[0m \n\u001b[0;32m  48737\u001b[0m \u001b[39m    \"\"\"\u001b[39;00m\n\u001b[1;32m> 48738\u001b[0m     \u001b[39mreturn\u001b[39;00m _SimpleITK\u001b[39m.\u001b[39;49mResampleImageFilter_SetReferenceImage(\u001b[39mself\u001b[39;49m, refImage)\n",
      "\u001b[1;31mTypeError\u001b[0m: in method 'ResampleImageFilter_SetReferenceImage', argument 2 of type 'itk::simple::Image const &'"
     ]
    }
   ],
   "source": [
    "interpol = sitk.sitkLinear\n",
    "Rot_trans_mri = sitk.Resample(mri_array, interpol)"
   ]
  }
 ],
 "metadata": {
  "kernelspec": {
   "display_name": "Python 3.8.13 ('BMIF804')",
   "language": "python",
   "name": "python3"
  },
  "language_info": {
   "codemirror_mode": {
    "name": "ipython",
    "version": 3
   },
   "file_extension": ".py",
   "mimetype": "text/x-python",
   "name": "python",
   "nbconvert_exporter": "python",
   "pygments_lexer": "ipython3",
   "version": "3.8.13"
  },
  "orig_nbformat": 4,
  "vscode": {
   "interpreter": {
    "hash": "b8a1b0ad063127b590882f09f293e24fe710b0dc92a4cc2eb02c1d8919f86241"
   }
  }
 },
 "nbformat": 4,
 "nbformat_minor": 2
}
